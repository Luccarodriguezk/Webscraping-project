{
  "nbformat": 4,
  "nbformat_minor": 0,
  "metadata": {
    "colab": {
      "provenance": [],
      "authorship_tag": "ABX9TyMkwxmfn1egja990ojYiOM9",
      "include_colab_link": true
    },
    "kernelspec": {
      "name": "python3",
      "display_name": "Python 3"
    },
    "language_info": {
      "name": "python"
    }
  },
  "cells": [
    {
      "cell_type": "markdown",
      "metadata": {
        "id": "view-in-github",
        "colab_type": "text"
      },
      "source": [
        "<a href=\"https://colab.research.google.com/github/Luccarodriguezk/Webscraping-project/blob/main/Web_Scraping_Project.ipynb\" target=\"_parent\"><img src=\"https://colab.research.google.com/assets/colab-badge.svg\" alt=\"Open In Colab\"/></a>"
      ]
    },
    {
      "cell_type": "code",
      "execution_count": 1,
      "metadata": {
        "id": "oUZmu3B0ssvP"
      },
      "outputs": [],
      "source": [
        "import requests\n",
        "from bs4 import BeautifulSoup\n",
        "import re\n",
        "import json"
      ]
    },
    {
      "cell_type": "code",
      "source": [
        "\n",
        "url1 = 'https://forecast.weather.gov/MapClick.php?CityName=Cheney&state=WA&site=OTX&textField1=47.4875&textField2=-117.575&e=0'\n",
        "response1 = requests.get(url1)\n",
        "soup1 = BeautifulSoup(response1.content,'html.parser')\n",
        "#lets get the title\n",
        "Title = soup1.title.string\n",
        "print(f\"Title: {Title}\")\n"
      ],
      "metadata": {
        "colab": {
          "base_uri": "https://localhost:8080/"
        },
        "id": "QmvaV434zUne",
        "outputId": "1638809f-c52f-4c71-b997-a265a92761e4"
      },
      "execution_count": 2,
      "outputs": [
        {
          "output_type": "stream",
          "name": "stdout",
          "text": [
            "Title: National Weather Service\n"
          ]
        }
      ]
    },
    {
      "cell_type": "code",
      "source": [
        "def scrape_humidity(url):\n",
        "  response = requests.get(url)\n",
        "\n",
        "  #create a chain of conditions to perform the test\n",
        "  if response.status_code == 200:\n",
        "    soup = BeautifulSoup(response.content, 'html.parser') #parse data\n",
        "    Humidity_element = soup.find('td', string='Humidity') #find the data\n",
        "    if Humidity_element:\n",
        "      Humidity_data = Humidity_element.find_next_sibling('td').text.strip()\n",
        "      return Humidity_data\n",
        "    else:\n",
        "      return \"Humidity information not found\"\n",
        "  else:\n",
        "    return f\"Failed to retrieve the webpage. Status code: {response.status_code}\"\n",
        "\n",
        "url = 'https://forecast.weather.gov/MapClick.php?CityName=Cheney&state=WA&site=OTX&textField1=47.4875&textField2=-117.575&e=0'\n",
        "Humidity = scrape_humidity(url)\n",
        "print(f'current Humidity {Humidity}')"
      ],
      "metadata": {
        "colab": {
          "base_uri": "https://localhost:8080/"
        },
        "id": "v2Jb37dQ-brn",
        "outputId": "b0f9ff42-1f04-469e-ffdd-0b08721051cc"
      },
      "execution_count": 3,
      "outputs": [
        {
          "output_type": "stream",
          "name": "stdout",
          "text": [
            "current Humidity 44%\n"
          ]
        }
      ]
    },
    {
      "cell_type": "code",
      "source": [
        "\n",
        "def scrape_dewpoint(url):\n",
        "    response = requests.get(url)\n",
        "\n",
        "    # Check if the request was successful\n",
        "    if response.status_code == 200:\n",
        "        soup = BeautifulSoup(response.content, 'html.parser')\n",
        "\n",
        "        # Find the dewpoint information\n",
        "        dewpoint_element = soup.find('td', string='Dewpoint')\n",
        "        if dewpoint_element:\n",
        "            dewpoint = dewpoint_element.find_next_sibling('td').text.strip()\n",
        "            return dewpoint\n",
        "        else:\n",
        "            return \"Dewpoint information not found\"\n",
        "    else:\n",
        "        return f\"Failed to retrieve the webpage. Status code: {response.status_code}\"\n",
        "\n",
        "# URL of the weather page\n",
        "url = \"https://forecast.weather.gov/MapClick.php?CityName=Cheney&state=WA&site=OTX&textField1=47.4875&textField2=-117.575&e=0\"\n",
        "\n",
        "# Scrape the dewpoint\n",
        "dewpoint = scrape_dewpoint(url)\n",
        "print(f\"Current Dewpoint: {dewpoint}\")"
      ],
      "metadata": {
        "colab": {
          "base_uri": "https://localhost:8080/"
        },
        "id": "LniGFnsH9Nmu",
        "outputId": "37b55a27-6c01-4198-b637-21b8857a77ed"
      },
      "execution_count": 4,
      "outputs": [
        {
          "output_type": "stream",
          "name": "stdout",
          "text": [
            "Current Dewpoint: 32°F (0°C)\n"
          ]
        }
      ]
    },
    {
      "cell_type": "markdown",
      "source": [
        "# Now lets Do a more serious job"
      ],
      "metadata": {
        "id": "nALvl91sozzs"
      }
    },
    {
      "cell_type": "code",
      "source": [
        "import requests\n",
        "from bs4 import BeautifulSoup\n",
        "\n",
        "def get_first_search_result(query):\n",
        "    # Format the query string for a search\n",
        "    query = query.replace(' ', '+')\n",
        "    url = f\"https://www.google.com/search?q={query}\"\n",
        "\n",
        "    # Send a GET request to Google\n",
        "    headers = {'User-Agent': 'Mozilla/5.0 (Windows NT 10.0; Win64; x64) AppleWebKit/537.36 (KHTML, like Gecko) Chrome/91.0.4472.124 Safari/537.36'}\n",
        "    response = requests.get(url, headers=headers)\n",
        "\n",
        "    if response.status_code == 200:\n",
        "        # Parse the search result page\n",
        "        soup = BeautifulSoup(response.content, 'html.parser')\n",
        "\n",
        "        # Find the first search result link\n",
        "        result = soup.find('div', class_='yuRUbf')\n",
        "        if result:\n",
        "            link = result.find('a')\n",
        "            if link:\n",
        "                return link['href']\n",
        "\n",
        "        return \"No search results found.\"\n",
        "    else:\n",
        "        return f\"Failed to retrieve search results. Status code: {response.status_code}\"\n",
        "\n",
        "# Example usage\n",
        "query = \"National Weather Service cheney\"\n",
        "url = get_first_search_result(query)\n",
        "print(f\"First search result: {url}\")\n"
      ],
      "metadata": {
        "colab": {
          "base_uri": "https://localhost:8080/"
        },
        "id": "z-aroJN2PRMO",
        "outputId": "f6599d76-278a-4080-d0f3-9f1e8e94822a"
      },
      "execution_count": 5,
      "outputs": [
        {
          "output_type": "stream",
          "name": "stdout",
          "text": [
            "First search result: https://forecast.weather.gov/MapClick.php?lat=47.4906&lon=-117.5795\n"
          ]
        }
      ]
    },
    {
      "cell_type": "code",
      "source": [
        "_#searching for stuff in a table of data\n",
        "Elements = ['Humidity','Dewpoint', 'Wind Speed', 'Visibility']\n",
        "response = requests.get(url)\n",
        "if response.status_code == 200:    # Check if the request was successful\n",
        "# Parse the HTML content\n",
        "\n",
        "  def Data_in_cheney(url):\n",
        "    soup = BeautifulSoup(response.content, 'html.parser')\n",
        "    output = []\n",
        "    for i in range(len(Elements)):\n",
        "\n",
        "          element = soup.find('td', string=f'{Elements[i]}')\n",
        "          if element:\n",
        "              data = element.find_next_sibling('td').string.strip()\n",
        "              output.append(data)\n",
        "          else:\n",
        "              return f\"{Elements[i]} information not found\"\n",
        "    return output\n",
        "\n",
        "else:\n",
        "  print( f\"Failed to retrieve the webpage. Status code: {response.status_code}\")\n",
        "\n",
        "# URL of the weather page\n",
        "\n",
        "# Scrape the dewpoint\n",
        "charcacteristc = Data_in_cheney(url)\n",
        "for i in range(len(Elements)):\n",
        "    print(f\"{Elements[i]}: {str(charcacteristc[i])}\")\n",
        "\n",
        "\n"
      ],
      "metadata": {
        "colab": {
          "base_uri": "https://localhost:8080/"
        },
        "id": "9_-9kuMWCKeh",
        "outputId": "2c4e37f8-3693-44fe-edd0-821be5ddf27a"
      },
      "execution_count": 6,
      "outputs": [
        {
          "output_type": "stream",
          "name": "stdout",
          "text": [
            "Humidity: 44%\n",
            "Dewpoint: 32°F (0°C)\n",
            "Wind Speed: E 3 MPH\n",
            "Visibility: NA\n"
          ]
        }
      ]
    }
  ]
}